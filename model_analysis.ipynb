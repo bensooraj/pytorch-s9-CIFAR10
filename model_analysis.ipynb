{
 "cells": [
  {
   "cell_type": "code",
   "execution_count": 1,
   "id": "666be28d-816e-4e7e-8103-33ff8bd71c88",
   "metadata": {},
   "outputs": [],
   "source": [
    "import torch\n",
    "import models as cifar_models\n",
    "from torch_receptive_field import receptive_field"
   ]
  },
  {
   "cell_type": "code",
   "execution_count": 2,
   "id": "850b7088-fbed-4b68-a558-8c154367e8bb",
   "metadata": {},
   "outputs": [
    {
     "name": "stdout",
     "output_type": "stream",
     "text": [
      "[INPUT] torch.Size([1, 3, 32, 32])\n",
      "[AFTER C1] torch.Size([1, 32, 32, 32])\n",
      "[AFTER C2] torch.Size([1, 32, 32, 32])\n",
      "[AFTER C3] torch.Size([1, 64, 32, 32])\n",
      "[AFTER C4] torch.Size([1, 128, 15, 15])\n",
      "[AFTER GAP] torch.Size([1, 128, 1, 1])\n",
      "[AFTER Flatten] torch.Size([1, 128])\n",
      "[AFTER FC1] torch.Size([1, 10])\n",
      "Image size is compatible with layer sizes.\n"
     ]
    }
   ],
   "source": [
    "model = cifar_models.Net(debug=True)\n",
    "\n",
    "BATCH_SIZE, CHANNEL_SIZE, height, width = 1, 3, 32, 32\n",
    "\n",
    "try:\n",
    "    model.forward(torch.rand((BATCH_SIZE, CHANNEL_SIZE, height, width)))\n",
    "    print(\"Image size is compatible with layer sizes.\")\n",
    "except RuntimeError as e:\n",
    "    e = str(e)\n",
    "    if e.endswith(\"Output size is too small\"):\n",
    "        print(\"Image size is too small.\")\n",
    "    elif \"shapes cannot be multiplied\" in e:\n",
    "        required_shape = e[e.index(\"x\") + 1:].split(\" \")[0]\n",
    "        print(f\"Linear layer needs to have size: {required_shape}\")\n",
    "    else:\n",
    "        print(f\"Error not understood: {e}\")"
   ]
  },
  {
   "cell_type": "code",
   "execution_count": 3,
   "id": "e4fab418-5282-425f-b577-6e48184856cc",
   "metadata": {},
   "outputs": [
    {
     "name": "stdout",
     "output_type": "stream",
     "text": [
      "[INPUT] torch.Size([2, 3, 32, 32])\n",
      "[AFTER C1] torch.Size([2, 32, 32, 32])\n",
      "[AFTER C2] torch.Size([2, 32, 32, 32])\n",
      "[AFTER C3] torch.Size([2, 64, 32, 32])\n",
      "[AFTER C4] torch.Size([2, 128, 15, 15])\n",
      "[AFTER GAP] torch.Size([2, 128, 1, 1])\n",
      "[AFTER Flatten] torch.Size([2, 128])\n",
      "[AFTER FC1] torch.Size([2, 10])\n",
      "------------------------------------------------------------------------------\n",
      "        Layer (type)    map size      start       jump receptive_field \n",
      "==============================================================================\n",
      "        0               [32, 32]        0.5        1.0             1.0 \n",
      "        1               [32, 32]        0.5        1.0             7.0 \n",
      "        2               [32, 32]        0.5        1.0             7.0 \n",
      "        3               [32, 32]        0.5        1.0             7.0 \n",
      "        4               [32, 32]        0.5        1.0            11.0 \n",
      "        5               [32, 32]        0.5        1.0            11.0 \n",
      "        6               [32, 32]        0.5        1.0            11.0 \n",
      "        7               [32, 32]        0.5        1.0            11.0 \n",
      "        8               [32, 32]        0.5        1.0            11.0 \n",
      "        9               [32, 32]        0.5        1.0            11.0 \n",
      "        10              [15, 15]        0.5        2.0            15.0 \n",
      "        11              [15, 15]        0.5        2.0            15.0 \n",
      "        12              [15, 15]        0.5        2.0            15.0 \n",
      "        13                [1, 1]       14.5        2.0            43.0 \n",
      "==============================================================================\n"
     ]
    },
    {
     "data": {
      "text/plain": [
       "OrderedDict([('0',\n",
       "              OrderedDict([('j', 1.0),\n",
       "                           ('r', 1.0),\n",
       "                           ('start', 0.5),\n",
       "                           ('conv_stage', True),\n",
       "                           ('output_shape', [-1, 3, 32, 32])])),\n",
       "             ('1',\n",
       "              OrderedDict([('j', 1.0),\n",
       "                           ('r', 7.0),\n",
       "                           ('start', 0.5),\n",
       "                           ('input_shape', [-1, 3, 32, 32]),\n",
       "                           ('output_shape', [-1, 32, 32, 32])])),\n",
       "             ('2',\n",
       "              OrderedDict([('j', 1.0),\n",
       "                           ('r', 7.0),\n",
       "                           ('start', 0.5),\n",
       "                           ('input_shape', [-1, 32, 32, 32]),\n",
       "                           ('output_shape', [-1, 32, 32, 32])])),\n",
       "             ('3',\n",
       "              OrderedDict([('j', 1.0),\n",
       "                           ('r', 7.0),\n",
       "                           ('start', 0.5),\n",
       "                           ('input_shape', [-1, 32, 32, 32]),\n",
       "                           ('output_shape', [-1, 32, 32, 32])])),\n",
       "             ('4',\n",
       "              OrderedDict([('j', 1.0),\n",
       "                           ('r', 11.0),\n",
       "                           ('start', 0.5),\n",
       "                           ('input_shape', [-1, 32, 32, 32]),\n",
       "                           ('output_shape', [-1, 32, 32, 32])])),\n",
       "             ('5',\n",
       "              OrderedDict([('j', 1.0),\n",
       "                           ('r', 11.0),\n",
       "                           ('start', 0.5),\n",
       "                           ('input_shape', [-1, 32, 32, 32]),\n",
       "                           ('output_shape', [-1, 32, 32, 32])])),\n",
       "             ('6',\n",
       "              OrderedDict([('j', 1.0),\n",
       "                           ('r', 11.0),\n",
       "                           ('start', 0.5),\n",
       "                           ('input_shape', [-1, 32, 32, 32]),\n",
       "                           ('output_shape', [-1, 32, 32, 32])])),\n",
       "             ('7',\n",
       "              OrderedDict([('j', 1.0),\n",
       "                           ('r', 11.0),\n",
       "                           ('start', 0.5),\n",
       "                           ('input_shape', [-1, 32, 32, 32]),\n",
       "                           ('output_shape', [-1, 64, 32, 32])])),\n",
       "             ('8',\n",
       "              OrderedDict([('j', 1.0),\n",
       "                           ('r', 11.0),\n",
       "                           ('start', 0.5),\n",
       "                           ('input_shape', [-1, 64, 32, 32]),\n",
       "                           ('output_shape', [-1, 64, 32, 32])])),\n",
       "             ('9',\n",
       "              OrderedDict([('j', 1.0),\n",
       "                           ('r', 11.0),\n",
       "                           ('start', 0.5),\n",
       "                           ('input_shape', [-1, 64, 32, 32]),\n",
       "                           ('output_shape', [-1, 64, 32, 32])])),\n",
       "             ('10',\n",
       "              OrderedDict([('j', 2.0),\n",
       "                           ('r', 15.0),\n",
       "                           ('start', 0.5),\n",
       "                           ('input_shape', [-1, 64, 32, 32]),\n",
       "                           ('output_shape', [-1, 128, 15, 15])])),\n",
       "             ('11',\n",
       "              OrderedDict([('j', 2.0),\n",
       "                           ('r', 15.0),\n",
       "                           ('start', 0.5),\n",
       "                           ('input_shape', [-1, 128, 15, 15]),\n",
       "                           ('output_shape', [-1, 128, 15, 15])])),\n",
       "             ('12',\n",
       "              OrderedDict([('j', 2.0),\n",
       "                           ('r', 15.0),\n",
       "                           ('start', 0.5),\n",
       "                           ('input_shape', [-1, 128, 15, 15]),\n",
       "                           ('output_shape', [-1, 128, 15, 15])])),\n",
       "             ('13',\n",
       "              OrderedDict([('j', 2.0),\n",
       "                           ('r', 43.0),\n",
       "                           ('start', 14.5),\n",
       "                           ('input_shape', [-1, 128, 15, 15]),\n",
       "                           ('output_shape', [-1, 128, 1, 1])])),\n",
       "             ('input_size', (3, 32, 32))])"
      ]
     },
     "execution_count": 3,
     "metadata": {},
     "output_type": "execute_result"
    }
   ],
   "source": [
    "receptive_field(model, input_size=(3, 32, 32))"
   ]
  },
  {
   "cell_type": "code",
   "execution_count": 4,
   "id": "0f8023d1-1253-4622-8631-fe5a468d2977",
   "metadata": {},
   "outputs": [
    {
     "name": "stdout",
     "output_type": "stream",
     "text": [
      "[INPUT] torch.Size([1, 3, 32, 32])\n",
      "[AFTER C1] torch.Size([1, 32, 32, 32])\n",
      "[AFTER C2] torch.Size([1, 32, 32, 32])\n",
      "[AFTER C3] torch.Size([1, 64, 32, 32])\n",
      "[AFTER C4] torch.Size([1, 128, 15, 15])\n",
      "[AFTER GAP] torch.Size([1, 128, 1, 1])\n",
      "[AFTER Flatten] torch.Size([1, 128])\n",
      "[AFTER FC1] torch.Size([1, 10])\n",
      "==========================================================================================\n",
      "Layer (type:depth-idx)                   Output Shape              Param #\n",
      "==========================================================================================\n",
      "Net                                      [1, 10]                   --\n",
      "├─Sequential: 1-1                        [1, 32, 32, 32]           --\n",
      "│    └─Conv2d: 2-1                       [1, 32, 32, 32]           4,736\n",
      "│    └─ReLU: 2-2                         [1, 32, 32, 32]           --\n",
      "│    └─BatchNorm2d: 2-3                  [1, 32, 32, 32]           64\n",
      "├─Sequential: 1-2                        [1, 32, 32, 32]           --\n",
      "│    └─Conv2d: 2-4                       [1, 32, 32, 32]           832\n",
      "│    └─ReLU: 2-5                         [1, 32, 32, 32]           --\n",
      "│    └─BatchNorm2d: 2-6                  [1, 32, 32, 32]           64\n",
      "├─Sequential: 1-3                        [1, 64, 32, 32]           --\n",
      "│    └─Conv2d: 2-7                       [1, 64, 32, 32]           2,112\n",
      "│    └─ReLU: 2-8                         [1, 64, 32, 32]           --\n",
      "│    └─BatchNorm2d: 2-9                  [1, 64, 32, 32]           128\n",
      "├─Sequential: 1-4                        [1, 128, 15, 15]          --\n",
      "│    └─Conv2d: 2-10                      [1, 128, 15, 15]          73,856\n",
      "│    └─ReLU: 2-11                        [1, 128, 15, 15]          --\n",
      "│    └─BatchNorm2d: 2-12                 [1, 128, 15, 15]          256\n",
      "├─AvgPool2d: 1-5                         [1, 128, 1, 1]            --\n",
      "├─Sequential: 1-6                        [1, 10]                   --\n",
      "│    └─Linear: 2-13                      [1, 10]                   1,290\n",
      "==========================================================================================\n",
      "Total params: 83,338\n",
      "Trainable params: 83,338\n",
      "Non-trainable params: 0\n",
      "Total mult-adds (Units.MEGABYTES): 24.48\n",
      "==========================================================================================\n",
      "Input size (MB): 0.01\n",
      "Forward/backward pass size (MB): 2.56\n",
      "Params size (MB): 0.33\n",
      "Estimated Total Size (MB): 2.90\n",
      "==========================================================================================\n"
     ]
    }
   ],
   "source": [
    "model.summary(input_size=(1, 3, 32, 32))"
   ]
  },
  {
   "cell_type": "code",
   "execution_count": 5,
   "id": "eaaab050-10a2-41e7-af27-187b9a10bf4c",
   "metadata": {},
   "outputs": [
    {
     "name": "stdout",
     "output_type": "stream",
     "text": [
      "x shape torch.Size([1, 256, 1, 1])\n",
      "x dim 4\n",
      "x size torch.Size([1, 256, 1, 1])\n"
     ]
    }
   ],
   "source": [
    "x = torch.randn((1, 256, 1, 1))\n",
    "print(\"x shape\", x.shape)\n",
    "print(\"x dim\", x.dim())\n",
    "print(\"x size\", x.size())"
   ]
  },
  {
   "cell_type": "code",
   "execution_count": 6,
   "id": "8e3bf486-3b6b-44c9-bb5d-f93b9d266345",
   "metadata": {},
   "outputs": [
    {
     "data": {
      "text/plain": [
       "torch.Size([1, 256])"
      ]
     },
     "execution_count": 6,
     "metadata": {},
     "output_type": "execute_result"
    }
   ],
   "source": [
    "x.view(-1, 256).shape"
   ]
  },
  {
   "cell_type": "code",
   "execution_count": 7,
   "id": "01372ee0-85f2-4b25-9908-fbfe760f1b63",
   "metadata": {},
   "outputs": [
    {
     "data": {
      "text/plain": [
       "torch.Size([1, 256])"
      ]
     },
     "execution_count": 7,
     "metadata": {},
     "output_type": "execute_result"
    }
   ],
   "source": [
    "x.flatten(1).shape"
   ]
  }
 ],
 "metadata": {
  "kernelspec": {
   "display_name": "Python 3 (ipykernel)",
   "language": "python",
   "name": "python3"
  },
  "language_info": {
   "codemirror_mode": {
    "name": "ipython",
    "version": 3
   },
   "file_extension": ".py",
   "mimetype": "text/x-python",
   "name": "python",
   "nbconvert_exporter": "python",
   "pygments_lexer": "ipython3",
   "version": "3.11.7"
  }
 },
 "nbformat": 4,
 "nbformat_minor": 5
}
