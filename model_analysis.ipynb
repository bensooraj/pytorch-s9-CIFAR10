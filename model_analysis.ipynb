{
 "cells": [
  {
   "cell_type": "code",
   "execution_count": 1,
   "id": "666be28d-816e-4e7e-8103-33ff8bd71c88",
   "metadata": {},
   "outputs": [],
   "source": [
    "import torch\n",
    "import models as cifar_models\n",
    "from torch_receptive_field import receptive_field"
   ]
  },
  {
   "cell_type": "code",
   "execution_count": 2,
   "id": "850b7088-fbed-4b68-a558-8c154367e8bb",
   "metadata": {},
   "outputs": [
    {
     "name": "stdout",
     "output_type": "stream",
     "text": [
      "Image size is compatible with layer sizes.\n"
     ]
    }
   ],
   "source": [
    "model = cifar_models.Net()\n",
    "\n",
    "BATCH_SIZE, CHANNEL_SIZE, height, width = 1, 3, 32, 32\n",
    "\n",
    "try:\n",
    "    model.forward(torch.rand((BATCH_SIZE, CHANNEL_SIZE, height, width)))\n",
    "    print(\"Image size is compatible with layer sizes.\")\n",
    "except RuntimeError as e:\n",
    "    e = str(e)\n",
    "    if e.endswith(\"Output size is too small\"):\n",
    "        print(\"Image size is too small.\")\n",
    "    elif \"shapes cannot be multiplied\" in e:\n",
    "        required_shape = e[e.index(\"x\") + 1:].split(\" \")[0]\n",
    "        print(f\"Linear layer needs to have size: {required_shape}\")\n",
    "    else:\n",
    "        print(f\"Error not understood: {e}\")"
   ]
  },
  {
   "cell_type": "code",
   "execution_count": 3,
   "id": "e4fab418-5282-425f-b577-6e48184856cc",
   "metadata": {},
   "outputs": [
    {
     "name": "stdout",
     "output_type": "stream",
     "text": [
      "------------------------------------------------------------------------------\n",
      "        Layer (type)    map size      start       jump receptive_field \n",
      "==============================================================================\n",
      "        0               [32, 32]        0.5        1.0             1.0 \n",
      "        1               [32, 32]        0.5        1.0             3.0 \n",
      "        2               [32, 32]        0.5        1.0             3.0 \n",
      "        3               [32, 32]        0.5        1.0             3.0 \n",
      "        4               [32, 32]        0.5        1.0             5.0 \n",
      "        5               [32, 32]        0.5        1.0             5.0 \n",
      "        6               [32, 32]        0.5        1.0             5.0 \n",
      "        7               [32, 32]        0.5        1.0             7.0 \n",
      "        8               [32, 32]        0.5        1.0             7.0 \n",
      "        9               [32, 32]        0.5        1.0             7.0 \n",
      "        10              [32, 32]        0.5        1.0             9.0 \n",
      "        11              [32, 32]        0.5        1.0             9.0 \n",
      "        12              [32, 32]        0.5        1.0             9.0 \n",
      "        13                [1, 1]       16.0        1.0            40.0 \n",
      "==============================================================================\n"
     ]
    },
    {
     "data": {
      "text/plain": [
       "OrderedDict([('0',\n",
       "              OrderedDict([('j', 1.0),\n",
       "                           ('r', 1.0),\n",
       "                           ('start', 0.5),\n",
       "                           ('conv_stage', True),\n",
       "                           ('output_shape', [-1, 3, 32, 32])])),\n",
       "             ('1',\n",
       "              OrderedDict([('j', 1.0),\n",
       "                           ('r', 3.0),\n",
       "                           ('start', 0.5),\n",
       "                           ('input_shape', [-1, 3, 32, 32]),\n",
       "                           ('output_shape', [-1, 32, 32, 32])])),\n",
       "             ('2',\n",
       "              OrderedDict([('j', 1.0),\n",
       "                           ('r', 3.0),\n",
       "                           ('start', 0.5),\n",
       "                           ('input_shape', [-1, 32, 32, 32]),\n",
       "                           ('output_shape', [-1, 32, 32, 32])])),\n",
       "             ('3',\n",
       "              OrderedDict([('j', 1.0),\n",
       "                           ('r', 3.0),\n",
       "                           ('start', 0.5),\n",
       "                           ('input_shape', [-1, 32, 32, 32]),\n",
       "                           ('output_shape', [-1, 32, 32, 32])])),\n",
       "             ('4',\n",
       "              OrderedDict([('j', 1.0),\n",
       "                           ('r', 5.0),\n",
       "                           ('start', 0.5),\n",
       "                           ('input_shape', [-1, 32, 32, 32]),\n",
       "                           ('output_shape', [-1, 64, 32, 32])])),\n",
       "             ('5',\n",
       "              OrderedDict([('j', 1.0),\n",
       "                           ('r', 5.0),\n",
       "                           ('start', 0.5),\n",
       "                           ('input_shape', [-1, 64, 32, 32]),\n",
       "                           ('output_shape', [-1, 64, 32, 32])])),\n",
       "             ('6',\n",
       "              OrderedDict([('j', 1.0),\n",
       "                           ('r', 5.0),\n",
       "                           ('start', 0.5),\n",
       "                           ('input_shape', [-1, 64, 32, 32]),\n",
       "                           ('output_shape', [-1, 64, 32, 32])])),\n",
       "             ('7',\n",
       "              OrderedDict([('j', 1.0),\n",
       "                           ('r', 7.0),\n",
       "                           ('start', 0.5),\n",
       "                           ('input_shape', [-1, 64, 32, 32]),\n",
       "                           ('output_shape', [-1, 128, 32, 32])])),\n",
       "             ('8',\n",
       "              OrderedDict([('j', 1.0),\n",
       "                           ('r', 7.0),\n",
       "                           ('start', 0.5),\n",
       "                           ('input_shape', [-1, 128, 32, 32]),\n",
       "                           ('output_shape', [-1, 128, 32, 32])])),\n",
       "             ('9',\n",
       "              OrderedDict([('j', 1.0),\n",
       "                           ('r', 7.0),\n",
       "                           ('start', 0.5),\n",
       "                           ('input_shape', [-1, 128, 32, 32]),\n",
       "                           ('output_shape', [-1, 128, 32, 32])])),\n",
       "             ('10',\n",
       "              OrderedDict([('j', 1.0),\n",
       "                           ('r', 9.0),\n",
       "                           ('start', 0.5),\n",
       "                           ('input_shape', [-1, 128, 32, 32]),\n",
       "                           ('output_shape', [-1, 256, 32, 32])])),\n",
       "             ('11',\n",
       "              OrderedDict([('j', 1.0),\n",
       "                           ('r', 9.0),\n",
       "                           ('start', 0.5),\n",
       "                           ('input_shape', [-1, 256, 32, 32]),\n",
       "                           ('output_shape', [-1, 256, 32, 32])])),\n",
       "             ('12',\n",
       "              OrderedDict([('j', 1.0),\n",
       "                           ('r', 9.0),\n",
       "                           ('start', 0.5),\n",
       "                           ('input_shape', [-1, 256, 32, 32]),\n",
       "                           ('output_shape', [-1, 256, 32, 32])])),\n",
       "             ('13',\n",
       "              OrderedDict([('j', 1.0),\n",
       "                           ('r', 40.0),\n",
       "                           ('start', 16.0),\n",
       "                           ('input_shape', [-1, 256, 32, 32]),\n",
       "                           ('output_shape', [-1, 256, 1, 1])])),\n",
       "             ('input_size', (3, 32, 32))])"
      ]
     },
     "execution_count": 3,
     "metadata": {},
     "output_type": "execute_result"
    }
   ],
   "source": [
    "receptive_field(model, input_size=(3, 32, 32))"
   ]
  },
  {
   "cell_type": "code",
   "execution_count": 4,
   "id": "eaaab050-10a2-41e7-af27-187b9a10bf4c",
   "metadata": {},
   "outputs": [
    {
     "name": "stdout",
     "output_type": "stream",
     "text": [
      "x shape torch.Size([1, 256, 1, 1])\n",
      "x dim 4\n",
      "x size torch.Size([1, 256, 1, 1])\n"
     ]
    }
   ],
   "source": [
    "x = torch.randn((1, 256, 1, 1))\n",
    "print(\"x shape\", x.shape)\n",
    "print(\"x dim\", x.dim())\n",
    "print(\"x size\", x.size())"
   ]
  },
  {
   "cell_type": "code",
   "execution_count": 5,
   "id": "8e3bf486-3b6b-44c9-bb5d-f93b9d266345",
   "metadata": {},
   "outputs": [
    {
     "data": {
      "text/plain": [
       "torch.Size([1, 256])"
      ]
     },
     "execution_count": 5,
     "metadata": {},
     "output_type": "execute_result"
    }
   ],
   "source": [
    "x.view(-1, 256).shape"
   ]
  },
  {
   "cell_type": "code",
   "execution_count": 6,
   "id": "01372ee0-85f2-4b25-9908-fbfe760f1b63",
   "metadata": {},
   "outputs": [
    {
     "data": {
      "text/plain": [
       "torch.Size([1, 256])"
      ]
     },
     "execution_count": 6,
     "metadata": {},
     "output_type": "execute_result"
    }
   ],
   "source": [
    "x.flatten(1).shape"
   ]
  }
 ],
 "metadata": {
  "kernelspec": {
   "display_name": "Python 3 (ipykernel)",
   "language": "python",
   "name": "python3"
  },
  "language_info": {
   "codemirror_mode": {
    "name": "ipython",
    "version": 3
   },
   "file_extension": ".py",
   "mimetype": "text/x-python",
   "name": "python",
   "nbconvert_exporter": "python",
   "pygments_lexer": "ipython3",
   "version": "3.11.7"
  }
 },
 "nbformat": 4,
 "nbformat_minor": 5
}
