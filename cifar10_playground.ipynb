{
 "cells": [
  {
   "cell_type": "markdown",
   "id": "708d1700-9fee-456c-bddc-c884e7e0b77b",
   "metadata": {},
   "source": [
    "# Import Libraries "
   ]
  },
  {
   "cell_type": "code",
   "execution_count": 1,
   "id": "2c0849f1-48a9-4b67-936d-b624101b6858",
   "metadata": {},
   "outputs": [],
   "source": [
    "from tqdm import tqdm\n",
    "from __future__ import print_function\n",
    "\n",
    "import torch\n",
    "import torch.nn as nn\n",
    "import torch.nn.functional as F\n",
    "import torchvision\n",
    "from   torchvision import datasets, transforms\n",
    "import torch.optim as optim\n",
    "from   torch.optim.lr_scheduler import StepLR\n",
    "from   torchinfo import summary\n",
    "\n",
    "import albumentations as A\n",
    "from   albumentations.pytorch import ToTensorV2\n",
    "\n",
    "%matplotlib inline\n",
    "import matplotlib.pyplot as plt\n",
    "import numpy as np\n",
    "\n",
    "import models as cifar_models\n",
    "import utils as myutils"
   ]
  },
  {
   "cell_type": "markdown",
   "id": "6d924046-4f1c-4af2-ae61-5f579b57b30e",
   "metadata": {},
   "source": [
    "# Set the GPU device"
   ]
  },
  {
   "cell_type": "code",
   "execution_count": 2,
   "id": "88a96a6c-30c3-4906-803a-0a1f767cb9ed",
   "metadata": {},
   "outputs": [
    {
     "name": "stdout",
     "output_type": "stream",
     "text": [
      "Apple MPS is available\n"
     ]
    }
   ],
   "source": [
    "# Is GPU available\n",
    "device = torch.device(\"cpu\")\n",
    "is_gpu_available = False\n",
    "\n",
    "if torch.cuda.is_available():\n",
    "    print(\"CUDA is available\")\n",
    "    device = torch.device(\"cuda:0\")\n",
    "    is_gpu_available = True\n",
    "elif torch.backends.mps.is_available():\n",
    "    print(\"Apple MPS is available\")\n",
    "    device = torch.device(\"mps:0\")\n",
    "    is_gpu_available = True\n",
    "\n",
    "torch.set_default_device(device)"
   ]
  },
  {
   "cell_type": "markdown",
   "id": "efb277da-df46-4656-8c8f-498fe02989b2",
   "metadata": {},
   "source": [
    "# Download and prepare the dataset"
   ]
  },
  {
   "cell_type": "code",
   "execution_count": 3,
   "id": "1c946b8f-1484-4ac6-9f07-c17dade7cc13",
   "metadata": {},
   "outputs": [],
   "source": [
    "# To get over the following error:\n",
    "# URLError: <urlopen error [SSL: CERTIFICATE_VERIFY_FAILED] certificate verify failed: unable to get local issuer certificate (_ssl.c:1006)>\n",
    "import ssl\n",
    "ssl._create_default_https_context = ssl._create_unverified_context"
   ]
  },
  {
   "cell_type": "code",
   "execution_count": 4,
   "id": "e6b54360-5c1c-4ae6-adac-3a7b32a23e08",
   "metadata": {},
   "outputs": [
    {
     "name": "stdout",
     "output_type": "stream",
     "text": [
      "Files already downloaded and verified\n",
      "Files already downloaded and verified\n",
      "classes:  {'airplane': 0, 'automobile': 1, 'bird': 2, 'cat': 3, 'deer': 4, 'dog': 5, 'frog': 6, 'horse': 7, 'ship': 8, 'truck': 9}\n"
     ]
    }
   ],
   "source": [
    "batch_size = 2048\n",
    "# Train Phase transformations\n",
    "# train_transforms = transforms.Compose([\n",
    "#     transforms.RandomHorizontalFlip(),\n",
    "#     transforms.RandomRotation(15),\n",
    "#     transforms.Normalize((0.4914, 0.4822, 0.4465), (0.2023, 0.1994, 0.2010)),\n",
    "#     transforms.ToTensor(),\n",
    "# ])\n",
    "train_transforms = myutils.Transforms(transforms=A.Compose([\n",
    "    A.HorizontalFlip(p=0.25),\n",
    "    A.ShiftScaleRotate(\n",
    "        shift_limit=0.0625, scale_limit=0.1, rotate_limit=45, interpolation=1, \n",
    "        border_mode=4, value=None, mask_value=None, shift_limit_x=None, shift_limit_y=None, \n",
    "        rotate_method='largest_box', always_apply=False, p=0.5,\n",
    "    ),\n",
    "    A.CoarseDropout(\n",
    "        max_holes=1, max_height=16, max_width=16, min_holes=1, min_height=16, \n",
    "        min_width=16, fill_value=0.48, mask_fill_value=None, always_apply=False, p=0.5,\n",
    "    ),\n",
    "    A.Normalize(mean=(0.4914, 0.4822, 0.4465), std=(0.2023, 0.1994, 0.2010)),\n",
    "    ToTensorV2(),\n",
    "]))\n",
    "\n",
    "# Test Phase transformations\n",
    "# test_transforms = transforms.Compose([\n",
    "#     transforms.Normalize((0.4914, 0.4822, 0.4465), (0.2023, 0.1994, 0.2010)),\n",
    "#     transforms.ToTensor(),\n",
    "# ])\n",
    "test_transforms = myutils.Transforms(transforms=A.Compose([\n",
    "    A.Normalize(mean=(0.4914, 0.4822, 0.4465), std=(0.2023, 0.1994, 0.2010)),\n",
    "    ToTensorV2(),\n",
    "]))\n",
    "\n",
    "# Data\n",
    "train_data = datasets.CIFAR10('./data', train=True, download=True, transform=train_transforms)\n",
    "test_data  = datasets.CIFAR10('./data', train=False, download=True, transform=test_transforms)\n",
    "\n",
    "# Data loaders\n",
    "dataloader_args = dict(shuffle=False, batch_size=batch_size, num_workers=4, pin_memory=True) if is_gpu_available else dict(shuffle=True, batch_size=64)\n",
    "\n",
    "# train dataloader\n",
    "train_data_loader = torch.utils.data.DataLoader(train_data, **dataloader_args)\n",
    "# test dataloader\n",
    "test_data_loader = torch.utils.data.DataLoader(test_data, **dataloader_args)\n",
    "\n",
    "print(\"classes: \", train_data.class_to_idx)\n",
    "# {'airplane': 0, 'automobile': 1, 'bird': 2, 'cat': 3, 'deer': 4, 'dog': 5, 'frog': 6, 'horse': 7, 'ship': 8, 'truck': 9}\n",
    "classes = ('airplane', 'automobile', 'bird', 'cat', 'deer', 'dog', 'frog', 'horse', 'ship', 'truck')"
   ]
  },
  {
   "cell_type": "markdown",
   "id": "f3408a6d-8f2d-4c10-a20d-b9ce1412d3c4",
   "metadata": {},
   "source": [
    "## Look at the data"
   ]
  },
  {
   "cell_type": "code",
   "execution_count": 5,
   "id": "2a7bc59d-f260-4579-bc6b-40476b24af23",
   "metadata": {},
   "outputs": [],
   "source": [
    "# # functions to show an image\n",
    "# def imshow(img):\n",
    "#     img = img / 2 + 0.5     # unnormalize\n",
    "#     npimg = img.numpy()\n",
    "#     plt.imshow(np.transpose(npimg, (1, 2, 0)))\n",
    "#     plt.show()\n",
    "\n",
    "# # get some random training images\n",
    "# dataiter = iter(train_data_loader)\n",
    "# images, labels = next(dataiter)\n",
    "# classes = ('plane', 'car', 'bird', 'cat',\n",
    "#            'deer', 'dog', 'frog', 'horse', 'ship', 'truck')\n",
    "\n",
    "# # show images\n",
    "# imshow(torchvision.utils.make_grid(images[:4]))\n",
    "# # print labels\n",
    "# print(' '.join(f'{classes[labels[j]]:5s}' for j in range(4)))"
   ]
  },
  {
   "cell_type": "markdown",
   "id": "ed97c0ae-b33d-407c-a075-fffbf58b66a8",
   "metadata": {},
   "source": [
    "# Model"
   ]
  },
  {
   "cell_type": "markdown",
   "id": "7b7f54da-ad89-4cd0-aa24-83725497d420",
   "metadata": {},
   "source": [
    "# Summary"
   ]
  },
  {
   "cell_type": "code",
   "execution_count": 6,
   "id": "61b7e678-7584-4bc8-9c1a-79da7e82c247",
   "metadata": {},
   "outputs": [
    {
     "data": {
      "text/plain": [
       "==========================================================================================\n",
       "Layer (type:depth-idx)                   Output Shape              Param #\n",
       "==========================================================================================\n",
       "Net                                      [1, 10]                   --\n",
       "├─Sequential: 1-1                        [1, 32, 32, 32]           --\n",
       "│    └─Conv2d: 2-1                       [1, 32, 32, 32]           4,736\n",
       "│    └─ReLU: 2-2                         [1, 32, 32, 32]           --\n",
       "│    └─BatchNorm2d: 2-3                  [1, 32, 32, 32]           64\n",
       "│    └─Dropout: 2-4                      [1, 32, 32, 32]           --\n",
       "├─Sequential: 1-2                        [1, 32, 32, 32]           --\n",
       "│    └─Conv2d: 2-5                       [1, 32, 32, 32]           832\n",
       "│    └─ReLU: 2-6                         [1, 32, 32, 32]           --\n",
       "│    └─BatchNorm2d: 2-7                  [1, 32, 32, 32]           64\n",
       "│    └─Dropout: 2-8                      [1, 32, 32, 32]           --\n",
       "├─Sequential: 1-3                        [1, 64, 32, 32]           --\n",
       "│    └─Conv2d: 2-9                       [1, 64, 32, 32]           2,112\n",
       "│    └─ReLU: 2-10                        [1, 64, 32, 32]           --\n",
       "│    └─BatchNorm2d: 2-11                 [1, 64, 32, 32]           128\n",
       "│    └─Dropout: 2-12                     [1, 64, 32, 32]           --\n",
       "├─Sequential: 1-4                        [1, 128, 15, 15]          --\n",
       "│    └─Conv2d: 2-13                      [1, 128, 15, 15]          73,856\n",
       "│    └─ReLU: 2-14                        [1, 128, 15, 15]          --\n",
       "│    └─BatchNorm2d: 2-15                 [1, 128, 15, 15]          256\n",
       "│    └─Dropout: 2-16                     [1, 128, 15, 15]          --\n",
       "├─AvgPool2d: 1-5                         [1, 128, 1, 1]            --\n",
       "├─Sequential: 1-6                        [1, 10]                   --\n",
       "│    └─Linear: 2-17                      [1, 10]                   1,290\n",
       "==========================================================================================\n",
       "Total params: 83,338\n",
       "Trainable params: 83,338\n",
       "Non-trainable params: 0\n",
       "Total mult-adds (Units.MEGABYTES): 24.48\n",
       "==========================================================================================\n",
       "Input size (MB): 0.01\n",
       "Forward/backward pass size (MB): 2.56\n",
       "Params size (MB): 0.33\n",
       "Estimated Total Size (MB): 2.90\n",
       "=========================================================================================="
      ]
     },
     "execution_count": 6,
     "metadata": {},
     "output_type": "execute_result"
    }
   ],
   "source": [
    "model = cifar_models.Net().to(device)\n",
    "summary(model=model, input_size=(1, 3, 32, 32))"
   ]
  },
  {
   "cell_type": "markdown",
   "id": "b8c45019-cfe2-4092-8811-5a6f9ea1c9e6",
   "metadata": {},
   "source": [
    "# Train and test the model"
   ]
  },
  {
   "cell_type": "code",
   "execution_count": 7,
   "id": "82ae9d01-4a4a-4849-bac5-6c9f20522356",
   "metadata": {},
   "outputs": [
    {
     "name": "stderr",
     "output_type": "stream",
     "text": [
      "Epoch=0 Batch_id=24 Loss=2.0139284133911133 Accuracy=19.80: 100%|████████████████████████████████████████████████████████████████████████████████████████████████████████████████████████████████████████████████████| 25/25 [00:39<00:00,  1.58s/it]\n"
     ]
    },
    {
     "name": "stdout",
     "output_type": "stream",
     "text": [
      "\n",
      "Test set: Average loss: 2.1760, Accuracy: 1720/10000 (17.20%)\n",
      "\n"
     ]
    },
    {
     "name": "stderr",
     "output_type": "stream",
     "text": [
      "Epoch=1 Batch_id=24 Loss=1.9195501804351807 Accuracy=25.92: 100%|████████████████████████████████████████████████████████████████████████████████████████████████████████████████████████████████████████████████████| 25/25 [00:37<00:00,  1.49s/it]\n"
     ]
    },
    {
     "name": "stdout",
     "output_type": "stream",
     "text": [
      "\n",
      "Test set: Average loss: 1.8972, Accuracy: 2769/10000 (27.69%)\n",
      "\n"
     ]
    },
    {
     "name": "stderr",
     "output_type": "stream",
     "text": [
      "Epoch=2 Batch_id=24 Loss=1.8363786935806274 Accuracy=29.53: 100%|████████████████████████████████████████████████████████████████████████████████████████████████████████████████████████████████████████████████████| 25/25 [00:37<00:00,  1.49s/it]\n"
     ]
    },
    {
     "name": "stdout",
     "output_type": "stream",
     "text": [
      "\n",
      "Test set: Average loss: 1.7970, Accuracy: 3266/10000 (32.66%)\n",
      "\n"
     ]
    },
    {
     "name": "stderr",
     "output_type": "stream",
     "text": [
      "Epoch=3 Batch_id=24 Loss=1.7641404867172241 Accuracy=32.29: 100%|████████████████████████████████████████████████████████████████████████████████████████████████████████████████████████████████████████████████████| 25/25 [00:37<00:00,  1.49s/it]\n"
     ]
    },
    {
     "name": "stdout",
     "output_type": "stream",
     "text": [
      "\n",
      "Test set: Average loss: 1.7351, Accuracy: 3539/10000 (35.39%)\n",
      "\n"
     ]
    },
    {
     "name": "stderr",
     "output_type": "stream",
     "text": [
      "Epoch=4 Batch_id=24 Loss=1.7250901460647583 Accuracy=34.14: 100%|████████████████████████████████████████████████████████████████████████████████████████████████████████████████████████████████████████████████████| 25/25 [00:37<00:00,  1.49s/it]\n"
     ]
    },
    {
     "name": "stdout",
     "output_type": "stream",
     "text": [
      "\n",
      "Test set: Average loss: 1.6902, Accuracy: 3728/10000 (37.28%)\n",
      "\n"
     ]
    },
    {
     "name": "stderr",
     "output_type": "stream",
     "text": [
      "Epoch=5 Batch_id=24 Loss=1.7020989656448364 Accuracy=35.43: 100%|████████████████████████████████████████████████████████████████████████████████████████████████████████████████████████████████████████████████████| 25/25 [00:37<00:00,  1.49s/it]\n"
     ]
    },
    {
     "name": "stdout",
     "output_type": "stream",
     "text": [
      "\n",
      "Test set: Average loss: 1.6501, Accuracy: 3935/10000 (39.35%)\n",
      "\n"
     ]
    },
    {
     "name": "stderr",
     "output_type": "stream",
     "text": [
      "Epoch=6 Batch_id=24 Loss=1.694251537322998 Accuracy=36.96: 100%|█████████████████████████████████████████████████████████████████████████████████████████████████████████████████████████████████████████████████████| 25/25 [00:37<00:00,  1.49s/it]\n"
     ]
    },
    {
     "name": "stdout",
     "output_type": "stream",
     "text": [
      "\n",
      "Test set: Average loss: 1.6084, Accuracy: 4067/10000 (40.67%)\n",
      "\n"
     ]
    },
    {
     "name": "stderr",
     "output_type": "stream",
     "text": [
      "Epoch=7 Batch_id=24 Loss=1.6639111042022705 Accuracy=37.80: 100%|████████████████████████████████████████████████████████████████████████████████████████████████████████████████████████████████████████████████████| 25/25 [00:37<00:00,  1.48s/it]\n"
     ]
    },
    {
     "name": "stdout",
     "output_type": "stream",
     "text": [
      "\n",
      "Test set: Average loss: 1.6135, Accuracy: 4075/10000 (40.75%)\n",
      "\n"
     ]
    },
    {
     "name": "stderr",
     "output_type": "stream",
     "text": [
      "Epoch=8 Batch_id=24 Loss=1.6303391456604004 Accuracy=38.46: 100%|████████████████████████████████████████████████████████████████████████████████████████████████████████████████████████████████████████████████████| 25/25 [00:37<00:00,  1.48s/it]\n"
     ]
    },
    {
     "name": "stdout",
     "output_type": "stream",
     "text": [
      "\n",
      "Test set: Average loss: 1.5539, Accuracy: 4263/10000 (42.63%)\n",
      "\n"
     ]
    },
    {
     "name": "stderr",
     "output_type": "stream",
     "text": [
      "Epoch=9 Batch_id=24 Loss=1.6203439235687256 Accuracy=39.52: 100%|████████████████████████████████████████████████████████████████████████████████████████████████████████████████████████████████████████████████████| 25/25 [00:37<00:00,  1.48s/it]\n"
     ]
    },
    {
     "name": "stdout",
     "output_type": "stream",
     "text": [
      "\n",
      "Test set: Average loss: 1.5309, Accuracy: 4383/10000 (43.83%)\n",
      "\n"
     ]
    },
    {
     "name": "stderr",
     "output_type": "stream",
     "text": [
      "Epoch=10 Batch_id=24 Loss=1.579413652420044 Accuracy=40.40: 100%|████████████████████████████████████████████████████████████████████████████████████████████████████████████████████████████████████████████████████| 25/25 [00:36<00:00,  1.48s/it]\n"
     ]
    },
    {
     "name": "stdout",
     "output_type": "stream",
     "text": [
      "\n",
      "Test set: Average loss: 1.5212, Accuracy: 4456/10000 (44.56%)\n",
      "\n"
     ]
    },
    {
     "name": "stderr",
     "output_type": "stream",
     "text": [
      "Epoch=11 Batch_id=24 Loss=1.603068470954895 Accuracy=41.00: 100%|████████████████████████████████████████████████████████████████████████████████████████████████████████████████████████████████████████████████████| 25/25 [00:37<00:00,  1.48s/it]\n"
     ]
    },
    {
     "name": "stdout",
     "output_type": "stream",
     "text": [
      "\n",
      "Test set: Average loss: 1.4870, Accuracy: 4562/10000 (45.62%)\n",
      "\n"
     ]
    },
    {
     "name": "stderr",
     "output_type": "stream",
     "text": [
      "Epoch=12 Batch_id=24 Loss=1.5602459907531738 Accuracy=41.27: 100%|███████████████████████████████████████████████████████████████████████████████████████████████████████████████████████████████████████████████████| 25/25 [00:36<00:00,  1.48s/it]\n"
     ]
    },
    {
     "name": "stdout",
     "output_type": "stream",
     "text": [
      "\n",
      "Test set: Average loss: 1.4854, Accuracy: 4563/10000 (45.63%)\n",
      "\n"
     ]
    },
    {
     "name": "stderr",
     "output_type": "stream",
     "text": [
      "Epoch=13 Batch_id=24 Loss=1.5463064908981323 Accuracy=42.21: 100%|███████████████████████████████████████████████████████████████████████████████████████████████████████████████████████████████████████████████████| 25/25 [00:37<00:00,  1.48s/it]\n"
     ]
    },
    {
     "name": "stdout",
     "output_type": "stream",
     "text": [
      "\n",
      "Test set: Average loss: 1.4861, Accuracy: 4614/10000 (46.14%)\n",
      "\n"
     ]
    },
    {
     "name": "stderr",
     "output_type": "stream",
     "text": [
      "Epoch=14 Batch_id=24 Loss=1.527945637702942 Accuracy=42.85: 100%|████████████████████████████████████████████████████████████████████████████████████████████████████████████████████████████████████████████████████| 25/25 [00:37<00:00,  1.48s/it]\n"
     ]
    },
    {
     "name": "stdout",
     "output_type": "stream",
     "text": [
      "\n",
      "Test set: Average loss: 1.4304, Accuracy: 4799/10000 (47.99%)\n",
      "\n"
     ]
    },
    {
     "name": "stderr",
     "output_type": "stream",
     "text": [
      "Epoch=15 Batch_id=24 Loss=1.5244272947311401 Accuracy=43.33: 100%|███████████████████████████████████████████████████████████████████████████████████████████████████████████████████████████████████████████████████| 25/25 [00:37<00:00,  1.49s/it]\n"
     ]
    },
    {
     "name": "stdout",
     "output_type": "stream",
     "text": [
      "\n",
      "Test set: Average loss: 1.4427, Accuracy: 4765/10000 (47.65%)\n",
      "\n"
     ]
    },
    {
     "name": "stderr",
     "output_type": "stream",
     "text": [
      "Epoch=16 Batch_id=24 Loss=1.5282930135726929 Accuracy=43.65: 100%|███████████████████████████████████████████████████████████████████████████████████████████████████████████████████████████████████████████████████| 25/25 [00:38<00:00,  1.54s/it]\n"
     ]
    },
    {
     "name": "stdout",
     "output_type": "stream",
     "text": [
      "\n",
      "Test set: Average loss: 1.4289, Accuracy: 4814/10000 (48.14%)\n",
      "\n"
     ]
    },
    {
     "name": "stderr",
     "output_type": "stream",
     "text": [
      "Epoch=17 Batch_id=24 Loss=1.5116534233093262 Accuracy=44.42: 100%|███████████████████████████████████████████████████████████████████████████████████████████████████████████████████████████████████████████████████| 25/25 [00:38<00:00,  1.54s/it]\n"
     ]
    },
    {
     "name": "stdout",
     "output_type": "stream",
     "text": [
      "\n",
      "Test set: Average loss: 1.4013, Accuracy: 4958/10000 (49.58%)\n",
      "\n"
     ]
    },
    {
     "name": "stderr",
     "output_type": "stream",
     "text": [
      "Epoch=18 Batch_id=24 Loss=1.474474549293518 Accuracy=45.15: 100%|████████████████████████████████████████████████████████████████████████████████████████████████████████████████████████████████████████████████████| 25/25 [00:37<00:00,  1.50s/it]\n"
     ]
    },
    {
     "name": "stdout",
     "output_type": "stream",
     "text": [
      "\n",
      "Test set: Average loss: 1.4063, Accuracy: 4936/10000 (49.36%)\n",
      "\n"
     ]
    },
    {
     "name": "stderr",
     "output_type": "stream",
     "text": [
      "Epoch=19 Batch_id=24 Loss=1.4665969610214233 Accuracy=45.32: 100%|███████████████████████████████████████████████████████████████████████████████████████████████████████████████████████████████████████████████████| 25/25 [00:36<00:00,  1.48s/it]\n"
     ]
    },
    {
     "name": "stdout",
     "output_type": "stream",
     "text": [
      "\n",
      "Test set: Average loss: 1.3809, Accuracy: 5042/10000 (50.42%)\n",
      "\n"
     ]
    }
   ],
   "source": [
    "model = cifar_models.Net().to(device)\n",
    "\n",
    "criterion = F.nll_loss\n",
    "optimizer = optim.SGD(params=model.parameters(), lr=0.01, momentum=0.9)\n",
    "# scheduler = StepLR(optimiser, step_size=6, gamma=0.1)\n",
    "\n",
    "train_losses = []\n",
    "test_losses = []\n",
    "train_acc = []\n",
    "test_acc = []\n",
    "\n",
    "EPOCHS = 20\n",
    "for epoch in range(EPOCHS):\n",
    "    # print(\"EPOCH:\", epoch)\n",
    "    myutils.train(model, train_data_loader, criterion, optimizer, epoch, train_losses, train_acc, device)\n",
    "    # scheduler.step()\n",
    "    myutils.test(model, test_data_loader, epoch, test_losses, test_acc, device)"
   ]
  },
  {
   "cell_type": "markdown",
   "id": "00477907-dbd1-4d5e-9134-a08f4603b90a",
   "metadata": {},
   "source": [
    "# Visualise"
   ]
  },
  {
   "cell_type": "markdown",
   "id": "43c5af79-3604-43ed-9f9c-f094d56c8a10",
   "metadata": {},
   "source": [
    "## Training and Testing"
   ]
  },
  {
   "cell_type": "code",
   "execution_count": 9,
   "id": "cbef8300-91e1-4e96-a305-783ed5166786",
   "metadata": {},
   "outputs": [
    {
     "data": {
      "text/plain": [
       "Text(0.5, 1.0, 'Test Accuracy')"
      ]
     },
     "execution_count": 9,
     "metadata": {},
     "output_type": "execute_result"
    },
    {
     "data": {
      "image/png": "[encoded data removed]",
      "text/plain": [
       "<Figure size 1500x1000 with 4 Axes>"
      ]
     },
     "metadata": {},
     "output_type": "display_data"
    }
   ],
   "source": [
    "t = [t_items.item() for t_items in train_losses]\n",
    "fig, axs = plt.subplots(2,2,figsize=(15,10))\n",
    "axs[0, 0].plot(t)\n",
    "axs[0, 0].set_title(\"Training Loss\")\n",
    "axs[1, 0].plot(train_acc)\n",
    "axs[1, 0].set_title(\"Training Accuracy\")\n",
    "axs[0, 1].plot(test_losses)\n",
    "axs[0, 1].set_title(\"Test Loss\")\n",
    "axs[1, 1].plot(test_acc)\n",
    "axs[1, 1].set_title(\"Test Accuracy\")"
   ]
  },
  {
   "cell_type": "code",
   "execution_count": null,
   "id": "b91f0b78-611e-435c-9198-48209efe1529",
   "metadata": {},
   "outputs": [],
   "source": []
  }
 ],
 "metadata": {
  "kernelspec": {
   "display_name": "Python 3 (ipykernel)",
   "language": "python",
   "name": "python3"
  },
  "language_info": {
   "codemirror_mode": {
    "name": "ipython",
    "version": 3
   },
   "file_extension": ".py",
   "mimetype": "text/x-python",
   "name": "python",
   "nbconvert_exporter": "python",
   "pygments_lexer": "ipython3",
   "version": "3.11.7"
  }
 },
 "nbformat": 4,
 "nbformat_minor": 5
}
